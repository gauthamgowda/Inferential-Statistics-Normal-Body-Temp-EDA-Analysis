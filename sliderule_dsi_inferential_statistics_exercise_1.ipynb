{
 "cells": [
  {
   "cell_type": "markdown",
   "metadata": {},
   "source": [
    "# What is the True Normal Human Body Temperature? \n",
    "\n",
    "#### Background\n",
    "\n",
    "The mean normal body temperature was held to be 37$^{\\circ}$C or 98.6$^{\\circ}$F for more than 120 years since it was first conceptualized and reported by Carl Wunderlich in a famous 1868 book. But, is this value statistically correct?"
   ]
  },
  {
   "cell_type": "markdown",
   "metadata": {},
   "source": [
    "<h3>Exercises</h3>\n",
    "\n",
    "<p>In this exercise, you will analyze a dataset of human body temperatures and employ the concepts of hypothesis testing, confidence intervals, and statistical significance.</p>\n",
    "\n",
    "<p>Answer the following questions <b>in this notebook below and submit to your Github account</b>.</p> \n",
    "\n",
    "<ol>\n",
    "<li>  Is the distribution of body temperatures normal? \n",
    "    <ul>\n",
    "    <li> Although this is not a requirement for the Central Limit Theorem to hold (read the introduction on Wikipedia's page about the CLT carefully: https://en.wikipedia.org/wiki/Central_limit_theorem), it gives us some peace of mind that the population may also be normally distributed if we assume that this sample is representative of the population.\n",
    "    <li> Think about the way you're going to check for the normality of the distribution. Graphical methods are usually used first, but there are also other ways: https://en.wikipedia.org/wiki/Normality_test\n",
    "    </ul>\n",
    "<li>  Is the sample size large? Are the observations independent?\n",
    "    <ul>\n",
    "    <li> Remember that this is a condition for the Central Limit Theorem, and hence the statistical tests we are using, to apply.\n",
    "    </ul>\n",
    "<li>  Is the true population mean really 98.6 degrees F?\n",
    "    <ul>\n",
    "    <li> First, try a bootstrap hypothesis test.\n",
    "    <li> Now, let's try frequentist statistical testing. Would you use a one-sample or two-sample test? Why?\n",
    "    <li> In this situation, is it appropriate to use the $t$ or $z$ statistic? \n",
    "    <li> Now try using the other test. How is the result be different? Why?\n",
    "    </ul>\n",
    "<li>  Draw a small sample of size 10 from the data and repeat both frequentist tests. \n",
    "    <ul>\n",
    "    <li> Which one is the correct one to use? \n",
    "    <li> What do you notice? What does this tell you about the difference in application of the $t$ and $z$ statistic?\n",
    "    </ul>\n",
    "<li>  At what temperature should we consider someone's temperature to be \"abnormal\"?\n",
    "    <ul>\n",
    "    <li> As in the previous example, try calculating everything using the boostrap approach, as well as the frequentist approach.\n",
    "    <li> Start by computing the margin of error and confidence interval. When calculating the confidence interval, keep in mind that you should use the appropriate formula for one draw, and not N draws.\n",
    "    </ul>\n",
    "<li>  Is there a significant difference between males and females in normal temperature?\n",
    "    <ul>\n",
    "    <li> What testing approach did you use and why?\n",
    "    <li> Write a story with your conclusion in the context of the original problem.\n",
    "    </ul>\n",
    "</ol>\n",
    "\n",
    "You can include written notes in notebook cells using Markdown: \n",
    "   - In the control panel at the top, choose Cell > Cell Type > Markdown\n",
    "   - Markdown syntax: http://nestacms.com/docs/creating-content/markdown-cheat-sheet\n",
    "\n",
    "#### Resources\n",
    "\n",
    "+ Information and data sources: http://www.amstat.org/publications/jse/datasets/normtemp.txt, http://www.amstat.org/publications/jse/jse_data_archive.htm\n",
    "+ Markdown syntax: http://nestacms.com/docs/creating-content/markdown-cheat-sheet\n",
    "\n",
    "****"
   ]
  },
  {
   "cell_type": "code",
   "execution_count": 26,
   "metadata": {},
   "outputs": [],
   "source": [
    "import matplotlib.pyplot as plt\n",
    "import seaborn as sns\n",
    "import numpy as np\n",
    "from scipy.stats import norm\n",
    "import scipy.stats\n",
    "import math\n",
    "\n",
    "df = pd.read_csv('data/human_body_temperature.csv')"
   ]
  },
  {
   "cell_type": "code",
   "execution_count": 10,
   "metadata": {},
   "outputs": [
    {
     "data": {
      "text/plain": [
       "temperature    130\n",
       "gender         130\n",
       "heart_rate     130\n",
       "dtype: int64"
      ]
     },
     "execution_count": 10,
     "metadata": {},
     "output_type": "execute_result"
    }
   ],
   "source": [
    "# Your work here.\n",
    "df.count()"
   ]
  },
  {
   "cell_type": "markdown",
   "metadata": {},
   "source": [
    "1. Is the distribution of body temperatures normal? \n",
    "Although this is not a requirement for the Central Limit Theorem to hold (read the introduction on Wikipedia's page about the CLT carefully: https://en.wikipedia.org/wiki/Central_limit_theorem), it gives us some peace of mind that the population may also be normally distributed if we assume that this sample is representative of the population. \n",
    "Think about the way you're going to check for the normality of the distribution. Graphical methods are usually used first, but there are also other ways: https://en.wikipedia.org/wiki/Normality_test \n",
    "\n",
    "A. See below the sample distribution and the probability distribution to check for normality and from the distribution the data is distributed normally"
   ]
  },
  {
   "cell_type": "code",
   "execution_count": 9,
   "metadata": {},
   "outputs": [],
   "source": [
    "#Calculate the mu, std to plot PDF\n",
    "temp_sorted = df.temperature.sort_values()\n",
    "mu, std = mu, std = temp_sorted.mean(),temp_sorted.std()\n",
    "pdf= norm.pdf(temp_sorted,mu,std)"
   ]
  },
  {
   "cell_type": "code",
   "execution_count": 28,
   "metadata": {},
   "outputs": [
    {
     "name": "stderr",
     "output_type": "stream",
     "text": [
      "C:\\Users\\GG\\Anaconda3\\lib\\site-packages\\matplotlib\\axes\\_axes.py:6521: MatplotlibDeprecationWarning: \n",
      "The 'normed' kwarg was deprecated in Matplotlib 2.1 and will be removed in 3.1. Use 'density' instead.\n",
      "  alternative=\"'density'\", removal=\"3.1\")\n",
      "No handles with labels found to put in legend.\n"
     ]
    },
    {
     "data": {
      "image/png": "[encoded data removed]",
      "text/plain": [
       "<Figure size 432x288 with 1 Axes>"
      ]
     },
     "metadata": {
      "needs_background": "light"
     },
     "output_type": "display_data"
    }
   ],
   "source": [
    "# Graphical EDA -histogram to check for distribution. The sample data appears to be normally distributed. \n",
    "import matplotlib.pyplot as plt\n",
    "\n",
    "_ = plt.hist(df['temperature'], bins = 40, normed = True, stacked = True)\n",
    "_ = plt.plot(temp_sorted, pdf)\n",
    "plt.xlabel('Temperature')\n",
    "plt.title('Sample distribution and PDF (line)')\n",
    "plt.legend()\n",
    "plt.grid()\n",
    "plt.show()"
   ]
  },
  {
   "cell_type": "markdown",
   "metadata": {},
   "source": [
    "2. Is the sample size large? Are the observations independent? \n",
    "Remember that this is a condition for the Central Limit Theorem, and hence the statistical tests we are using, to apply. \n",
    "\n",
    "A. Yes the samples are large enough to assume normality. CLT suggests a minimum sample size of 30 in order for normality of the population mean. The notes in the dataset mentions the observations are random samples and therefore they are independent of each other. Also, the sample randomness is one of the requirement of the normal distribution.\n",
    "Also, test for normality at alpha =0.05 below yileds p-value ~ 0.26 > alpha=0.05. Therefore, samples are normally distributed."
   ]
  },
  {
   "cell_type": "code",
   "execution_count": 22,
   "metadata": {},
   "outputs": [
    {
     "name": "stdout",
     "output_type": "stream",
     "text": [
      "Normality p-value: 0.2587479863488212\n"
     ]
    }
   ],
   "source": [
    "k2,p=scipy.stats.normaltest(temp_sorted)\n",
    "print('Normality p-value:', p)"
   ]
  },
  {
   "cell_type": "markdown",
   "metadata": {},
   "source": [
    "3. Is the true population mean really 98.6 degrees F? \n",
    "First, try a bootstrap hypothesis test. \n",
    "A. The null hypothesis (H0):  Avg_Body_Temp = 98.6F and Alternate Hypothesis (H1): Avg_Body_Temp != 98.6F\n",
    "From the bootstrap hypothesis test, the mean normal temperature after 10000 replicates is 98.25 and the 99% confidence interval is still below 98.6. Also, p-value= 0.0 < alpha=0.05 so we reject the null hypothesis that mean normal body temp. is 98.6\n",
    "\n",
    "Now, let's try frequentist statistical testing. Would you use a one-sample or two-sample test? Why? \n",
    "A. Since we are evaluating the entire population mean normal temperature, we use one-sample frequentist statistical testing. If we were to evaluate the mean temperatures between males and females then we use two-sample testing \n",
    "\n",
    "In this situation, is it appropriate to use the 𝑡 or 𝑧 statistic? \n",
    "A. Conditions for using t-statistc: \n",
    "    i. population SD is unknown \n",
    "    ii. sample size < 30\n",
    "    In this case, we do not know the population SD and also the sample size is > 30. Therefore we should use Z- statistic\n",
    "  From the calculations below Z-score is 5.4 which is very high. Therefore the probablity of mean normal temperature of 98.6 is very low and almost 0.0.\n",
    "  \n",
    "Now try using the other test. How is the result be different? Why? \n",
    "A. Cannot use t-statistcs since population SD is not known and sample size is large."
   ]
  },
  {
   "cell_type": "code",
   "execution_count": 19,
   "metadata": {},
   "outputs": [
    {
     "name": "stdout",
     "output_type": "stream",
     "text": [
      "Sample mean: 98.24923076923078\n"
     ]
    }
   ],
   "source": [
    "mu = np.mean(df['temperature'])\n",
    "print('Sample mean:', mu)"
   ]
  },
  {
   "cell_type": "code",
   "execution_count": 17,
   "metadata": {},
   "outputs": [
    {
     "name": "stdout",
     "output_type": "stream",
     "text": [
      "Replicate Mean: 98.24967223076924\n",
      "95% confidence Interval: [98.12384615 98.37386538]\n",
      "p-value: 0.0\n"
     ]
    }
   ],
   "source": [
    "# Check bootstrapping method to find the sample mean\n",
    "# bootstrap replicate for 1 replicate\n",
    "def bootstrap_replicate_1d(data, func):\n",
    "    return func(np.random.choice(data, size=len(data)))\n",
    "\n",
    "# bootstrap replicates for N size\n",
    "def draw_bs_reps(data, func, size=1):\n",
    "    \"\"\"Draw bootstrap replicates.\"\"\"\n",
    "\n",
    "    # Initialize array of replicates: bs_replicates\n",
    "    bs_replicates = np.empty(size)\n",
    "\n",
    "    # Generate replicates\n",
    "    for i in range(size):\n",
    "        bs_replicates[i] = bootstrap_replicate_1d(data, func)\n",
    "\n",
    "    return bs_replicates\n",
    "\n",
    "bs_replicates = draw_bs_reps(df['temperature'], np.mean, 10000)\n",
    "print('Replicate Mean:', np.mean(bs_replicates))\n",
    "confidence_interval = np.percentile(bs_replicates,[2.5, 97.5])\n",
    "print ('95% confidence Interval:', confidence_interval)\n",
    "p = sum(bs_replicates >= 98.6)/ len(bs_replicates)\n",
    "print ('p-value:', p)"
   ]
  },
  {
   "cell_type": "code",
   "execution_count": 25,
   "metadata": {},
   "outputs": [
    {
     "name": "stdout",
     "output_type": "stream",
     "text": [
      "Z-score: -5.475925202078116\n",
      "P-value: 4.3523151658821886e-08\n"
     ]
    }
   ],
   "source": [
    "# Frequentist statistical testing - z-statistcs\n",
    "import scipy.stats as st\n",
    "population_mu = 98.6\n",
    "sample_mean_temp = np.mean(df['temperature'])\n",
    "sample_size = len(df['temperature'])\n",
    "sample_std = np.std(df['temperature'])\n",
    "z = (sample_mean_temp - population_mu) / (sample_std/ np.sqrt(sample_size))\n",
    "print('Z-score:', z)\n",
    "p_values = st.norm.cdf((z))*2 #two-sided\n",
    "print('P-value:', p_values)"
   ]
  },
  {
   "cell_type": "markdown",
   "metadata": {},
   "source": [
    "4. Draw a small sample of size 10 from the data and repeat both frequentist tests. \n",
    "Which one is the correct one to use? \n",
    "What do you notice? What does this tell you about the difference in application of the 𝑡 and 𝑧 statistic? \n",
    "\n",
    "\n",
    "A. t-Statistc is based on the DOF (n-1) and confidence interval to calculate probability and is fixed and therefore is the correct test.\n",
    "z-statistic changes everytime a new sample of 10 is chosen.\n",
    "If we chose t-statistc with alpha=0.05 then we can reject null hypothesis (H0: mu=98.6) but cannot do so with z-statistic"
   ]
  },
  {
   "cell_type": "code",
   "execution_count": 42,
   "metadata": {},
   "outputs": [
    {
     "name": "stdout",
     "output_type": "stream",
     "text": [
      "sample_mean: 98.28\n",
      "Z-score: -1.4766784404040867\n",
      "P-value from Z- test: 0.13409213490529096\n",
      "P-Value from T-test: 0.030891922617813167\n"
     ]
    }
   ],
   "source": [
    "# Frequentist statistical testing - z-statistcs\n",
    "import scipy.stats as st\n",
    "population_mu = 98.6\n",
    "sample = np.random.choice(df['temperature'], 10)\n",
    "sample_mean_temp = np.mean(sample)\n",
    "sample_size = 10\n",
    "sample_std = np.std(sample)\n",
    "z = np.mean((sample_mean_temp - population_mu) / (sample_std/np.sqrt(sample_size)))\n",
    "print('sample_mean:', sample_mean_temp)\n",
    "print('Z-score:', z)\n",
    "p_values = st.norm.pdf((z)) \n",
    "print('P-value from Z- test:',  p_values)\n",
    "print('P-Value from T-test:', st.norm.pdf(2.262))"
   ]
  },
  {
   "cell_type": "markdown",
   "metadata": {},
   "source": [
    "5.At what temperature should we consider someone's temperature to be \"abnormal\"? \n",
    "As in the previous example, try calculating everything using the boostrap approach, as well as the frequentist approach. \n",
    "Start by computing the margin of error and confidence interval. When calculating the confidence interval, keep in mind that you should use the appropriate formula for one draw, and not N draws. \n",
    "\n",
    "A. Answers are below for both bootstrap method and the frequentist methods"
   ]
  },
  {
   "cell_type": "code",
   "execution_count": 40,
   "metadata": {},
   "outputs": [
    {
     "name": "stdout",
     "output_type": "stream",
     "text": [
      "BS_Abnormal temperature is below: 96.07250794749125\n",
      "BS_Abnormal temperature is above: 100.42721559097028\n",
      "Fq_Abnormal temperature is below: 96.05815743251567\n",
      "Fq_Abnormal temperature is above: 100.44030410594588\n",
      "Standard Error: -0.48027041116080765\n",
      "95% CI: 97.30790076335559 , 99.19056077510596\n"
     ]
    }
   ],
   "source": [
    "# bootstrap approach\n",
    "\n",
    "std = draw_bs_reps(df['temperature'], np.std, 10000)\n",
    "three_sigma = 3* np.mean(std)\n",
    "mean_temp = np.mean(draw_bs_reps(df['temperature'], np.mean, 10000))\n",
    "low_abnormal_temp = mean_temp - three_sigma\n",
    "high_abnormal_temp = mean_temp + three_sigma\n",
    "print('BS_Abnormal temperature is below:', low_abnormal_temp)\n",
    "print('BS_Abnormal temperature is above:', high_abnormal_temp)\n",
    "\n",
    "#frequentist approach\n",
    "frequentist_mean = np.mean(df['temperature'])\n",
    "frequentist_std = np.std(df['temperature'])\n",
    "Fq_low_abnormal = frequentist_mean - 3*frequentist_std\n",
    "Fq_high_abnormal = frequentist_mean + 3*frequentist_std\n",
    "print('Fq_Abnormal temperature is below:', Fq_low_abnormal)\n",
    "print('Fq_Abnormal temperature is above:', Fq_high_abnormal )\n",
    "\n",
    "#CI\n",
    "se = (frequentist_mean - 98.6)/ frequentist_std \n",
    "\n",
    "CI_low = frequentist_mean - 1.96 * se\n",
    "CI_high = frequentist_mean + 1.96 * se\n",
    "print('Standard Error:', standard_error) \n",
    "print('95% CI:',CI_high, ',',CI_low )"
   ]
  },
  {
   "cell_type": "markdown",
   "metadata": {},
   "source": [
    "6. Is there a significant difference between males and females in normal temperature? \n",
    "What testing approach did you use and why? \n",
    "\n",
    "A. Used bootsrapping method to calculate the mean body temperature for male and female. \n",
    "Null hypothesis (H0): mean_body_temp_male = mean_body_temp_female\n",
    "\n",
    "Alternate hypothesis (Ha): mean_body_temp_male != mean_body_temp_female\n",
    "\n",
    "Calculated the P-values for both groups and the probablity of the difference = 0. \n",
    "Since the p-values are small and the probablity of the difference_mean_body_temp not equal or less than 0, we reject the null hypothesis that both male and female have same mean body temperature. \n",
    "\n",
    "Write a story with your conclusion in the context of the original problem.\n",
    "A. From this analysis, we conclude:\n",
    "   1. Mean normal temperature != 98.6 \n",
    "   2. Both men and women have lesser mean normal temperature than null hypothesis (H0: mean_temp = 98.6)\n",
    "   3. Females have a higher normal temperatures than males."
   ]
  },
  {
   "cell_type": "code",
   "execution_count": 9,
   "metadata": {},
   "outputs": [
    {
     "name": "stdout",
     "output_type": "stream",
     "text": [
      "Male_mean_temp: 98.1046153846154\n",
      "Female_mean_temp: 98.39384615384613\n",
      "Difference_men_women: 0.289230769230727\n"
     ]
    }
   ],
   "source": [
    "m = np.mean(df[df['gender']=='M'].temperature)\n",
    "print('Male_mean_temp:', m)\n",
    "f = np.mean(df[df['gender']=='F'].temperature)\n",
    "print('Female_mean_temp:', f)\n",
    "diff = abs(m - f)\n",
    "print('Difference_men_women:', diff)"
   ]
  },
  {
   "cell_type": "code",
   "execution_count": 26,
   "metadata": {},
   "outputs": [
    {
     "name": "stdout",
     "output_type": "stream",
     "text": [
      "Men Replicate Mean: 98.10427553846154\n",
      "95% confidence Interval Men: [97.93384615 98.26769231]\n",
      "p-value_male: 0.0\n",
      "Women Replicate Mean: 98.39327353846153\n",
      "95% confidence Interval Woman: [98.21384615 98.57076923]\n",
      "p-value_female: 0.0116\n",
      "p-value diff: False\n"
     ]
    }
   ],
   "source": [
    "#bootstrap sampling of male and female body temp\n",
    "male = df[df['gender']=='M'].temperature\n",
    "bs_men = draw_bs_reps(male, np.mean, 10000)\n",
    "print('Men Replicate Mean:', np.mean(bs_men))\n",
    "men_CI = np.percentile(bs_men,[2.5, 97.5])\n",
    "print ('95% confidence Interval Men:', men_CI)\n",
    "pm = sum(bs_men >= 98.6)/ len(bs_men)\n",
    "print ('p-value_male:', pm)\n",
    "#female\n",
    "female = df[df['gender']=='F'].temperature\n",
    "bs_fem = draw_bs_reps(female, np.mean, 10000)\n",
    "print('Women Replicate Mean:', np.mean(bs_fem))\n",
    "fem_CI = np.percentile(bs_fem,[2.5, 97.5])\n",
    "print ('95% confidence Interval Woman:', fem_CI)\n",
    "pf = sum(bs_fem >= 98.6)/ len(bs_fem)\n",
    "print ('p-value_female:', pf)\n",
    "\n",
    "p1 = sum(bs_fem -bs_men)<=0/ len(bs_fem)\n",
    "print('p-value diff:', p1)"
   ]
  },
  {
   "cell_type": "code",
   "execution_count": null,
   "metadata": {},
   "outputs": [],
   "source": []
  }
 ],
 "metadata": {
  "kernelspec": {
   "display_name": "Python 3",
   "language": "python",
   "name": "python3"
  },
  "language_info": {
   "codemirror_mode": {
    "name": "ipython",
    "version": 3
   },
   "file_extension": ".py",
   "mimetype": "text/x-python",
   "name": "python",
   "nbconvert_exporter": "python",
   "pygments_lexer": "ipython3",
   "version": "3.7.1"
  }
 },
 "nbformat": 4,
 "nbformat_minor": 1
}
